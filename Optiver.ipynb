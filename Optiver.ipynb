{
 "cells": [
  {
   "cell_type": "code",
   "execution_count": 64,
   "metadata": {},
   "outputs": [],
   "source": [
    "import socket\n",
    "import numpy as np\n",
    "import matplotlib.pyplot as plt\n",
    "import pandas as pd\n"
   ]
  },
  {
   "cell_type": "code",
   "execution_count": 65,
   "metadata": {},
   "outputs": [],
   "source": [
    "class Price:\n",
    "    def __init__(self, feedcode, bid, ask):\n",
    "        self.feedcode = feedcode\n",
    "        self.bid = bid # (price, volume)\n",
    "        self.ask = ask # price, volume)\n",
    "        self.timestamp = pd.Timestamp.utcnow()\n",
    "\n",
    "    @classmethod\n",
    "    def from_packet(cls, packet):\n",
    "        fields = str(packet).split(\"|\")\n",
    "\n",
    "        feedcode = fields[1].replace(\"FEEDCODE=\", '')\n",
    "        bid_price = float(fields[2].replace(\"BID_PRICE=\", ''))\n",
    "        bid_volume = float(fields[3].replace(\"BID_VOLUME=\", ''))\n",
    "\n",
    "        ask_price = float(fields[4].replace(\"ASK_PRICE=\", ''))\n",
    "        ask_volume = float(fields[5].replace(\"ASK_VOLUME=\", '').replace('\\'', ''))\n",
    "        \n",
    "        return cls(feedcode, (bid_price, bid_volume), (ask_price, ask_volume))\n",
    "    \n",
    "    def append_to_df(self, dataframe):\n",
    "        pass\n",
    "    \n",
    "class Trade:\n",
    "    def __init__(self, feedcode, side, price, volume):\n",
    "        self.feedcode = feedcode\n",
    "        self.side = side\n",
    "        self.price = price\n",
    "        self.volume = volume\n",
    "        self.timestamp = pd.Timestamp.utcnow()\n",
    "\n",
    "    @classmethod\n",
    "    def from_packet(cls, packet):\n",
    "        fields = str(packet).split(\"|\")\n",
    "\n",
    "        feedcode = fields[1].replace(\"FEEDCODE=\", '')\n",
    "        side = fields[2].replace(\"SIDE=\", '')\n",
    "        price = float(fields[3].replace(\"PRICE=\", ''))\n",
    "        volume = float(fields[4].replace(\"VOLUME=\", '').replace('\\'', ''))\n",
    "        \n",
    "        return cls(feedcode, side, price, volume)\n",
    "    \n",
    "    def append_to_df(self, dataframe):\n",
    "        pass\n",
    "    "
   ]
  },
  {
   "cell_type": "code",
   "execution_count": 77,
   "metadata": {},
   "outputs": [
    {
     "name": "stdout",
     "output_type": "stream",
     "text": [
      "2019-05-11 17:45:05.461870+00:00 3116.0\n",
      "2019-05-11 17:45:05.463866+00:00 (3002.5, 2187.0) (3002.75, 621.0)\n"
     ]
    }
   ],
   "source": [
    "dummy_trade = 'TYPE=TRADE|FEEDCODE=ESX-FUTURE|SIDE=ASK|PRICE=3116|VOLUME=159'\n",
    "dummy_price = 'TYPE=PRICE|FEEDCODE=SP-FUTURE|BID_PRICE=3002.5|BID_VOLUME=2187|ASK_PRICE=3002.75|ASK_VOLUME=621'\n",
    "\n",
    "dummy_trade_object = Trade.from_packet(dummy_trade)\n",
    "print(dummy_trade_object.timestamp, dummy_trade_object.price)\n",
    "\n",
    "dummy_price_object = Price.from_packet(dummy_price)\n",
    "print(dummy_price_object.timestamp, dummy_price_object.bid, dummy_price_object.ask)"
   ]
  },
  {
   "cell_type": "code",
   "execution_count": 78,
   "metadata": {},
   "outputs": [
    {
     "name": "stdout",
     "output_type": "stream",
     "text": [
      "2019-05-11 17:46:49.189193+00:00 ASK 3072.5 1216.0\n",
      "2019-05-11 17:46:49.317043+00:00 SP-FUTURE (3046.75, 1328.0) (3047.0, 1486.0)\n",
      "2019-05-11 17:46:49.790387+00:00 ASK 3072.5 8.0\n",
      "2019-05-11 17:46:49.792376+00:00 SP-FUTURE (3046.75, 1330.0) (3047.0, 1484.0)\n",
      "2019-05-11 17:46:50.103508+00:00 ASK 3072.5 352.0\n",
      "2019-05-11 17:46:50.105501+00:00 SP-FUTURE (3046.75, 1813.0) (3047.0, 1001.0)\n",
      "2019-05-11 17:46:50.260689+00:00 ASK 3047.0 196.0\n",
      "2019-05-11 17:46:50.261685+00:00 ESX-FUTURE (3072.25, 1263.0) (3072.5, 1692.0)\n",
      "2019-05-11 17:46:51.292690+00:00 BID 3046.75 249.0\n",
      "2019-05-11 17:46:51.309651+00:00 ESX-FUTURE (3072.25, 754.0) (3072.5, 2201.0)\n",
      "2019-05-11 17:46:51.359511+00:00 ASK 3072.5 2200.0\n",
      "2019-05-11 17:46:51.454710+00:00 SP-FUTURE (3049.5, 1893.0) (3049.75, 921.0)\n",
      "2019-05-11 17:46:52.203907+00:00 BID 3072.25 99.0\n",
      "2019-05-11 17:46:52.230831+00:00 SP-FUTURE (3049.5, 1665.0) (3049.75, 1149.0)\n",
      "2019-05-11 17:46:52.573809+00:00 BID 3049.5 259.0\n",
      "2019-05-11 17:46:52.596782+00:00 ESX-FUTURE (3072.25, 132.0) (3072.5, 2823.0)\n",
      "2019-05-11 17:46:53.142257+00:00 ASK 3072.5 55.0\n",
      "2019-05-11 17:46:53.154217+00:00 SP-FUTURE (3049.5, 1671.0) (3049.75, 1143.0)\n",
      "2019-05-11 17:46:53.696565+00:00 BID 3049.5 1247.0\n",
      "2019-05-11 17:46:53.717500+00:00 ESX-FUTURE (3071.25, 1286.0) (3071.5, 1669.0)\n",
      "2019-05-11 17:46:53.720489+00:00 ASK 3049.75 440.0\n",
      "2019-05-11 17:46:53.748418+00:00 ESX-FUTURE (3071.5, 489.0) (3071.75, 2466.0)\n",
      "2019-05-11 17:46:54.323262+00:00 ASK 3071.75 271.0\n",
      "2019-05-11 17:46:54.352180+00:00 SP-FUTURE (3049.5, 1916.0) (3049.75, 898.0)\n",
      "2019-05-11 17:46:54.974391+00:00 ASK 3049.75 541.0\n",
      "2019-05-11 17:46:55.002275+00:00 ESX-FUTURE (3071.75, 1057.0) (3072.0, 1898.0)\n",
      "2019-05-11 17:46:55.149209+00:00 ASK 3072.0 1229.0\n",
      "2019-05-11 17:46:55.165200+00:00 SP-FUTURE (3050.25, 1420.0) (3050.5, 1394.0)\n"
     ]
    },
    {
     "ename": "KeyboardInterrupt",
     "evalue": "",
     "output_type": "error",
     "traceback": [
      "\u001b[1;31m---------------------------------------------------------------------------\u001b[0m",
      "\u001b[1;31mKeyboardInterrupt\u001b[0m                         Traceback (most recent call last)",
      "\u001b[1;32m<ipython-input-78-69643c0dae05>\u001b[0m in \u001b[0;36m<module>\u001b[1;34m()\u001b[0m\n\u001b[0;32m     11\u001b[0m \u001b[1;33m\u001b[0m\u001b[0m\n\u001b[0;32m     12\u001b[0m \u001b[1;32mwhile\u001b[0m \u001b[1;32mTrue\u001b[0m\u001b[1;33m:\u001b[0m\u001b[1;33m\u001b[0m\u001b[1;33m\u001b[0m\u001b[0m\n\u001b[1;32m---> 13\u001b[1;33m     \u001b[0mpacket\u001b[0m \u001b[1;33m=\u001b[0m \u001b[0msock\u001b[0m\u001b[1;33m.\u001b[0m\u001b[0mrecvfrom\u001b[0m\u001b[1;33m(\u001b[0m\u001b[1;36m65535\u001b[0m\u001b[1;33m)\u001b[0m\u001b[1;33m\u001b[0m\u001b[1;33m\u001b[0m\u001b[0m\n\u001b[0m\u001b[0;32m     14\u001b[0m \u001b[1;33m\u001b[0m\u001b[0m\n\u001b[0;32m     15\u001b[0m     \u001b[0mraw_request\u001b[0m \u001b[1;33m=\u001b[0m \u001b[0mstr\u001b[0m\u001b[1;33m(\u001b[0m\u001b[0mpacket\u001b[0m\u001b[1;33m[\u001b[0m\u001b[1;36m0\u001b[0m\u001b[1;33m]\u001b[0m\u001b[1;33m)\u001b[0m\u001b[1;33m\u001b[0m\u001b[1;33m\u001b[0m\u001b[0m\n",
      "\u001b[1;31mKeyboardInterrupt\u001b[0m: "
     ]
    }
   ],
   "source": [
    "UDP_IP = \"188.166.115.7\"\n",
    "UDP_PORT = 7001\n",
    "MESSAGE = b\"TYPE=SUBSCRIPTION_REQUEST\"\n",
    "\n",
    "sock = socket.socket(socket.AF_INET, # Internet\n",
    "                      socket.SOCK_DGRAM) # UDP\n",
    "\n",
    "sock.sendto(MESSAGE, (UDP_IP, UDP_PORT))\n",
    "\n",
    "i=0\n",
    "\n",
    "while True:\n",
    "    packet = sock.recvfrom(65535)\n",
    "    \n",
    "    raw_request = str(packet[0])\n",
    "    \n",
    "    if \"TYPE=PRICE\" in raw_request:\n",
    "        price = Price.from_packet(raw_request)\n",
    "        print(price.timestamp, price.feedcode, price.bid, price.ask)\n",
    "    elif \"TYPE=TRADE\" in raw_request:\n",
    "        trade = Trade.from_packet(raw_request)\n",
    "        print(trade.timestamp, trade.side, trade.price, trade.volume)\n",
    "        \n",
    "    i+=1\n"
   ]
  },
  {
   "cell_type": "code",
   "execution_count": 11,
   "metadata": {},
   "outputs": [
    {
     "name": "stdout",
     "output_type": "stream",
     "text": [
      "1109206\n"
     ]
    }
   ],
   "source": []
  },
  {
   "cell_type": "code",
   "execution_count": null,
   "metadata": {},
   "outputs": [],
   "source": []
  },
  {
   "cell_type": "code",
   "execution_count": null,
   "metadata": {},
   "outputs": [],
   "source": []
  }
 ],
 "metadata": {
  "kernelspec": {
   "display_name": "Python 3",
   "language": "python",
   "name": "python3"
  },
  "language_info": {
   "codemirror_mode": {
    "name": "ipython",
    "version": 3
   },
   "file_extension": ".py",
   "mimetype": "text/x-python",
   "name": "python",
   "nbconvert_exporter": "python",
   "pygments_lexer": "ipython3",
   "version": "3.6.8"
  }
 },
 "nbformat": 4,
 "nbformat_minor": 2
}
