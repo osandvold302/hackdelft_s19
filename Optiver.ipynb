{
 "cells": [
  {
   "cell_type": "code",
   "execution_count": 1,
   "metadata": {},
   "outputs": [
    {
     "name": "stdout",
     "output_type": "stream",
     "text": [
      "(b'TYPE=TRADE|FEEDCODE=SP-FUTURE|SIDE=BID|PRICE=2997.75|VOLUME=329', ('188.166.115.7', 7001))\n",
      "(b'TYPE=PRICE|FEEDCODE=ESX-FUTURE|BID_PRICE=3162.75|BID_VOLUME=2477|ASK_PRICE=3163|ASK_VOLUME=464', ('188.166.115.7', 7001))\n",
      "(b'TYPE=TRADE|FEEDCODE=SP-FUTURE|SIDE=ASK|PRICE=2998|VOLUME=281', ('188.166.115.7', 7001))\n",
      "(b'TYPE=PRICE|FEEDCODE=ESX-FUTURE|BID_PRICE=3163|BID_VOLUME=261|ASK_PRICE=3163.25|ASK_VOLUME=2680', ('188.166.115.7', 7001))\n",
      "(b'TYPE=TRADE|FEEDCODE=SP-FUTURE|SIDE=ASK|PRICE=2998|VOLUME=418', ('188.166.115.7', 7001))\n",
      "(b'TYPE=PRICE|FEEDCODE=ESX-FUTURE|BID_PRICE=3163|BID_VOLUME=1652|ASK_PRICE=3163.25|ASK_VOLUME=1289', ('188.166.115.7', 7001))\n",
      "(b'TYPE=TRADE|FEEDCODE=ESX-FUTURE|SIDE=ASK|PRICE=3163.25|VOLUME=833', ('188.166.115.7', 7001))\n",
      "(b'TYPE=PRICE|FEEDCODE=SP-FUTURE|BID_PRICE=2998.25|BID_VOLUME=1242|ASK_PRICE=2998.5|ASK_VOLUME=1560', ('188.166.115.7', 7001))\n",
      "(b'TYPE=TRADE|FEEDCODE=ESX-FUTURE|SIDE=BID|PRICE=3163|VOLUME=1505', ('188.166.115.7', 7001))\n",
      "(b'TYPE=PRICE|FEEDCODE=SP-FUTURE|BID_PRICE=2996.75|BID_VOLUME=2265|ASK_PRICE=2997|ASK_VOLUME=537', ('188.166.115.7', 7001))\n"
     ]
    },
    {
     "ename": "KeyboardInterrupt",
     "evalue": "",
     "output_type": "error",
     "traceback": [
      "\u001b[1;31m---------------------------------------------------------------------------\u001b[0m",
      "\u001b[1;31mKeyboardInterrupt\u001b[0m                         Traceback (most recent call last)",
      "\u001b[1;32m<ipython-input-1-1e65daf20f06>\u001b[0m in \u001b[0;36m<module>\u001b[1;34m()\u001b[0m\n\u001b[0;32m     10\u001b[0m \u001b[0msock\u001b[0m\u001b[1;33m.\u001b[0m\u001b[0msendto\u001b[0m\u001b[1;33m(\u001b[0m\u001b[0mMESSAGE\u001b[0m\u001b[1;33m,\u001b[0m \u001b[1;33m(\u001b[0m\u001b[0mUDP_IP\u001b[0m\u001b[1;33m,\u001b[0m \u001b[0mUDP_PORT\u001b[0m\u001b[1;33m)\u001b[0m\u001b[1;33m)\u001b[0m\u001b[1;33m\u001b[0m\u001b[1;33m\u001b[0m\u001b[0m\n\u001b[0;32m     11\u001b[0m \u001b[1;32mwhile\u001b[0m \u001b[1;32mTrue\u001b[0m\u001b[1;33m:\u001b[0m\u001b[1;33m\u001b[0m\u001b[1;33m\u001b[0m\u001b[0m\n\u001b[1;32m---> 12\u001b[1;33m     \u001b[0mpacket\u001b[0m \u001b[1;33m=\u001b[0m \u001b[0msock\u001b[0m\u001b[1;33m.\u001b[0m\u001b[0mrecvfrom\u001b[0m\u001b[1;33m(\u001b[0m\u001b[1;36m65535\u001b[0m\u001b[1;33m)\u001b[0m\u001b[1;33m\u001b[0m\u001b[1;33m\u001b[0m\u001b[0m\n\u001b[0m\u001b[0;32m     13\u001b[0m     \u001b[0mprint\u001b[0m\u001b[1;33m(\u001b[0m\u001b[0mpacket\u001b[0m\u001b[1;33m)\u001b[0m\u001b[1;33m\u001b[0m\u001b[1;33m\u001b[0m\u001b[0m\n",
      "\u001b[1;31mKeyboardInterrupt\u001b[0m: "
     ]
    }
   ],
   "source": [
    "import socket\n",
    "\n",
    "UDP_IP = \"188.166.115.7\"\n",
    "UDP_PORT = 7001\n",
    "MESSAGE = b\"TYPE=SUBSCRIPTION_REQUEST\"\n",
    "\n",
    "sock = socket.socket(socket.AF_INET, # Internet\n",
    "                      socket.SOCK_DGRAM) # UDP\n",
    "\n",
    "sock.sendto(MESSAGE, (UDP_IP, UDP_PORT))\n",
    "while True:\n",
    "    packet = sock.recvfrom(65535)\n",
    "    print(packet)"
   ]
  },
  {
   "cell_type": "code",
   "execution_count": null,
   "metadata": {},
   "outputs": [],
   "source": []
  }
 ],
 "metadata": {
  "kernelspec": {
   "display_name": "Python 3",
   "language": "python",
   "name": "python3"
  }
 },
 "nbformat": 4,
 "nbformat_minor": 2
}
