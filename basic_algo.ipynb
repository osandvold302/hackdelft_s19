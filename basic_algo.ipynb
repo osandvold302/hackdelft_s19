{
 "cells": [
  {
   "cell_type": "code",
   "execution_count": 17,
   "metadata": {},
   "outputs": [],
   "source": [
    "from messages import Price, Trade"
   ]
  },
  {
   "cell_type": "code",
   "execution_count": 21,
   "metadata": {},
   "outputs": [
    {
     "name": "stdout",
     "output_type": "stream",
     "text": [
      "ASK\n"
     ]
    }
   ],
   "source": [
    "packet = \"TYPE=TRADE|FEEDCODE=SP-FUTURE|SIDE=ASK|PRICE=3048.25|VOLUME=533\"\n",
    "price = Trade.from_packet(packet)\n",
    "print(price.side)"
   ]
  },
  {
   "cell_type": "code",
   "execution_count": 11,
   "metadata": {},
   "outputs": [
    {
     "ename": "SyntaxError",
     "evalue": "unexpected EOF while parsing (<ipython-input-11-76235e31617b>, line 29)",
     "output_type": "error",
     "traceback": [
      "\u001b[0;36m  File \u001b[0;32m\"<ipython-input-11-76235e31617b>\"\u001b[0;36m, line \u001b[0;32m29\u001b[0m\n\u001b[0;31m    # return 0 if nothing\u001b[0m\n\u001b[0m                          ^\u001b[0m\n\u001b[0;31mSyntaxError\u001b[0m\u001b[0;31m:\u001b[0m unexpected EOF while parsing\n"
     ]
    }
   ],
   "source": [
    "# Get price from recent packet\n",
    "\n",
    "# 2 queues of length 60\n",
    "queue_ESX = Queue()\n",
    "queue_SP = Queue()\n",
    "\n",
    "# If price is a BID  \n",
    "  # THEN  \n",
    "  # If price is ESX  \n",
    "    # If queue is not full \n",
    "      # add to queue\n",
    "    # Else \n",
    "      # call buyOrSell\n",
    "\n",
    "\n",
    "\n",
    "  # If price is SP \n",
    "    # If queue is not full \n",
    "      # add to queue  \n",
    "    # Else \n",
    "      # call buyOrSell\n",
    "\n",
    "\n",
    "def buyOrSell(queue, newval):\n",
    "  # calculate mean based on queue\n",
    "  # calculated std\n",
    "  # calculate z-score\n",
    "  # if z > 2 == negative value (sell)\n",
    "  # else if z < -2 == positive value (buy)\n",
    "  # return buy or sell and which price if so  \n",
    "  # return 0 if nothing \n"
   ]
  },
  {
   "cell_type": "code",
   "execution_count": null,
   "metadata": {},
   "outputs": [],
   "source": []
  }
 ],
 "metadata": {
  "kernelspec": {
   "display_name": "Python 3",
   "language": "python",
   "name": "python3"
  },
  "language_info": {
   "codemirror_mode": {
    "name": "ipython",
    "version": 3
   },
   "file_extension": ".py",
   "mimetype": "text/x-python",
   "name": "python",
   "nbconvert_exporter": "python",
   "pygments_lexer": "ipython3",
   "version": "3.7.3"
  }
 },
 "nbformat": 4,
 "nbformat_minor": 2
}
