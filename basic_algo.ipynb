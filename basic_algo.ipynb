{
  "nbformat": 4,
  "nbformat_minor": 0,
  "metadata": {
    "colab": {
      "name": "Copy of basic_algo.ipynb",
      "version": "0.3.2",
      "provenance": [],
      "collapsed_sections": []
    },
    "language_info": {
      "codemirror_mode": {
        "name": "ipython",
        "version": 3
      },
      "file_extension": ".py",
      "mimetype": "text/x-python",
      "name": "python",
      "nbconvert_exporter": "python",
      "pygments_lexer": "ipython3",
      "version": "3.7.3"
    },
    "kernelspec": {
      "display_name": "Python 3",
      "language": "python",
      "name": "python3"
    }
  },
  "cells": [
    {
      "cell_type": "code",
      "metadata": {
        "id": "oOLMmj4O2CRN",
        "colab_type": "code",
        "colab": {}
      },
      "source": [
        "from messages import Price, Trade\n",
        "#import json\n",
        "import queue\n",
        "from statistics import stdev"
      ],
      "execution_count": 0,
      "outputs": []
    },
    {
      "cell_type": "code",
      "metadata": {
        "id": "VnYGWDLl2CRT",
        "colab_type": "code",
        "outputId": "bf295320-c9aa-4d2d-9b26-85e2a1afad3b",
        "colab": {
          "base_uri": "https://localhost:8080/",
          "height": 35
        }
      },
      "source": [
        "packet = \"TYPE=TRADE|FEEDCODE=SP-FUTURE|SIDE=ASK|PRICE=533.3|VOLUME=122\"\n",
        "\n",
        "trade = Trade.from_packet(packet)\n",
        "print(trade.side)"
      ],
      "execution_count": 14,
      "outputs": [
        {
          "output_type": "stream",
          "text": [
            "ASK\n"
          ],
          "name": "stdout"
        }
      ]
    },
    {
      "cell_type": "markdown",
      "metadata": {
        "id": "kUMnGreRIJdE",
        "colab_type": "text"
      },
      "source": [
        ""
      ]
    },
    {
      "cell_type": "code",
      "metadata": {
        "id": "ksu6VQ862CRZ",
        "colab_type": "code",
        "colab": {}
      },
      "source": [
        "# 2 queues of length 60\n",
        "queue_ESX = queue.Queue(60)\n",
        "queue_SP = queue.Queue(60)\n",
        "\n",
        "d = dict()\n",
        "d[\"feedcode\"] = \"\"\n",
        "d[\"price\"] = 0\n",
        "d[\"volume\"] = 0\n",
        "\n",
        "# hacky way to get around collection\n",
        "collect_ESX = False\n",
        "collect_SP = False\n",
        "\n",
        "# If price is ESX  \n",
        "if trade.feedcode == \"ESX-FUTURE\":\n",
        "  # Fill until we reach the first 60\n",
        "  if not queue_ESX.full() and not collect_ESX:\n",
        "    queue_ESX.put(trade)\n",
        "  else:\n",
        "    collect_ESX = True\n",
        "    queue_ESX.get(0)\n",
        "    queue_ESX.put(trade)\n",
        "    # call buyOrSell      \n",
        "    d[\"feedcode\"] = \"ESX-FUTURE\"\n",
        "    d = buyOrSell(d,queue_ESX,trade.price)\n",
        "\n",
        "\n",
        "# If price is SP \n",
        "else:\n",
        "  if not queue_SP.full() and not collect_SP:\n",
        "    queue_SP.put(trade)\n",
        "  else: \n",
        "    collect_SP = True\n",
        "    queue_SP.get(0)\n",
        "    queue_SP.put(trade)\n",
        "    d[\"feedcode\"] = \"SP-FUTURE\"\n",
        "    d = buyOrSell(d,queue,trade.price)\n",
        "      \n",
        "\n",
        "def buyOrSell(d,prev_60_val, newval):\n",
        "  mean = sum(prev_60_val) / 60\n",
        "  # calculate mean based on queue\n",
        "  std = stdev(prev_60_val)\n",
        "  # calculated std\n",
        "  z = (newval - mean)/ std\n",
        "  # calculate z-score\n",
        "  # if z > 2 == negative value (sell)\n",
        "  if z > 2:\n",
        "    d[\"price\"] = newval\n",
        "    d[\"volume\"] = -5\n",
        "    return d\n",
        "  # else if z < -2 == positive value (buy)\n",
        "  elif z < -2:\n",
        "    d[\"price\"] = newval\n",
        "    d[\"volume\"] = 7\n",
        "    return d\n",
        "  \n",
        "  else:\n",
        "    # return 0 price, 0 volume\n",
        "    return d\n"
      ],
      "execution_count": 0,
      "outputs": []
    },
    {
      "cell_type": "code",
      "metadata": {
        "id": "P1NbKZpK2CRg",
        "colab_type": "code",
        "colab": {}
      },
      "source": [
        "\"\""
      ],
      "execution_count": 0,
      "outputs": []
    }
  ]
}